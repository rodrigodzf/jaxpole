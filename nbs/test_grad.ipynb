{
 "cells": [
  {
   "cell_type": "markdown",
   "metadata": {},
   "source": [
    "# Testing"
   ]
  },
  {
   "cell_type": "code",
   "execution_count": null,
   "metadata": {},
   "outputs": [],
   "source": [
    "#| default_exp test_grad"
   ]
  },
  {
   "cell_type": "code",
   "execution_count": null,
   "metadata": {},
   "outputs": [],
   "source": [
    "# | export\n",
    "\n",
    "import numpy as np\n",
    "import pytest"
   ]
  },
  {
   "cell_type": "code",
   "execution_count": null,
   "metadata": {},
   "outputs": [],
   "source": [
    "# | export\n",
    "\n",
    "def get_random_biquads(cmplx=False, rng=None):\n",
    "    if rng is None:\n",
    "        rng = np.random.default_rng()\n",
    "\n",
    "    if cmplx:\n",
    "        mag = rng.random(2)\n",
    "        phase = rng.random(2) * 2 * np.pi\n",
    "        roots = mag * np.exp(1j * phase)\n",
    "        return np.array([-roots[0] - roots[1], roots[0] * roots[1]], dtype=np.complex128)\n",
    "    mag = rng.random(1)\n",
    "    phase = rng.random(1) * np.pi\n",
    "    return np.array([-mag * np.cos(phase) * 2, mag**2], dtype=np.float64)\n",
    "\n",
    "def create_test_inputs(batch_size, samples, cmplx=False, seed=None, p=2):\n",
    "    rng = np.random.default_rng(seed)\n",
    "\n",
    "    start_coeffs = get_random_biquads(cmplx, rng)\n",
    "    end_coeffs = get_random_biquads(cmplx, rng)\n",
    "    dtype = np.complex128 if cmplx else np.float64\n",
    "\n",
    "    A = np.stack(\n",
    "        [\n",
    "            np.linspace(start_coeffs[i], end_coeffs[i], samples, dtype=dtype)\n",
    "            for i in range(p)\n",
    "        ]\n",
    "    ).T.reshape(1, samples, p)\n",
    "    \n",
    "    A = np.tile(A, (batch_size, 1, 1))\n",
    "    x = rng.normal(size=(batch_size, samples)).astype(dtype)\n",
    "    zi = rng.normal(size=(batch_size, p)).astype(dtype)\n",
    "    return x, A, zi\n",
    "\n",
    "def allpole_np(\n",
    "    x: np.ndarray, # (B, time,)\n",
    "    A: np.ndarray, # (B, time, order)\n",
    "    zi: np.ndarray, # (B, order,)\n",
    ") -> np.ndarray:\n",
    "    \"\"\"\n",
    "    Reference implementation of the allpole filter.\n",
    "    \"\"\"\n",
    "    B, T = x.shape\n",
    "    order = zi.shape[-1]\n",
    "    padded_y = np.empty((B, T + order), dtype=x.dtype)\n",
    "    padded_y[:, :order] = zi[:, ::-1]\n",
    "    padded_y[:, order:] = x\n",
    "\n",
    "    for b in range(B):\n",
    "        for t in range(T):\n",
    "            ref = padded_y[b, t + order] - A[b, t][::-1] @ padded_y[b, t:t + order]\n",
    "            padded_y[b, t + order] = ref\n",
    "\n",
    "    return padded_y[:, order:]"
   ]
  },
  {
   "cell_type": "code",
   "execution_count": null,
   "metadata": {},
   "outputs": [],
   "source": [
    "# | export\n",
    "\n",
    "@pytest.mark.parametrize(\n",
    "    \"samples\",\n",
    "    [32],\n",
    ")\n",
    "@pytest.mark.parametrize(\n",
    "    \"cmplx\",\n",
    "    [False],\n",
    ")\n",
    "@pytest.mark.parametrize(\n",
    "    \"p\",\n",
    "    [2, 4, 8, 16],\n",
    ")\n",
    "def test_all(\n",
    "    samples: int,\n",
    "    cmplx: bool,\n",
    "    p: int,\n",
    "):\n",
    "    from jaxpole.filter import allpole\n",
    "    import jax\n",
    "    from jax.test_util import check_grads\n",
    "\n",
    "    print(f\"The jax default backend is {jax.default_backend()}\")\n",
    "    \n",
    "    batch_size = 4\n",
    "    x, A, zi = create_test_inputs(batch_size, samples, cmplx, p)\n",
    "    check_grads(allpole, (x, A, zi), order=2, modes=(\"rev\"))\n",
    "\n",
    "    y = allpole(x, A, zi)\n",
    "    y_np = allpole_np(x, A, zi)\n",
    "\n",
    "    assert np.allclose(y, y_np, atol=1e-6)"
   ]
  }
 ],
 "metadata": {
  "kernelspec": {
   "display_name": "python3",
   "language": "python",
   "name": "python3"
  }
 },
 "nbformat": 4,
 "nbformat_minor": 2
}
