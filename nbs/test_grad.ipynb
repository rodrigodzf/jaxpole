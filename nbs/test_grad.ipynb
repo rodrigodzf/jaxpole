{
 "cells": [
  {
   "cell_type": "markdown",
   "metadata": {},
   "source": [
    "# Testing"
   ]
  },
  {
   "cell_type": "code",
   "execution_count": null,
   "metadata": {},
   "outputs": [],
   "source": [
    "#| default_exp test_grad"
   ]
  },
  {
   "cell_type": "code",
   "execution_count": null,
   "metadata": {},
   "outputs": [],
   "source": [
    "# | export\n",
    "\n",
    "import numpy as np\n",
    "import pytest"
   ]
  },
  {
   "cell_type": "code",
   "execution_count": null,
   "metadata": {},
   "outputs": [],
   "source": [
    "# | export\n",
    "\n",
    "def get_random_biquads(cmplx=False, rng=None):\n",
    "    if rng is None:\n",
    "        rng = np.random.default_rng()\n",
    "\n",
    "    if cmplx:\n",
    "        mag = rng.random(2)\n",
    "        phase = rng.random(2) * 2 * np.pi\n",
    "        roots = mag * np.exp(1j * phase)\n",
    "        return np.array([-roots[0] - roots[1], roots[0] * roots[1]], dtype=np.complex128)\n",
    "    mag = rng.random(1)\n",
    "    phase = rng.random(1) * np.pi\n",
    "    return np.array([-mag * np.cos(phase) * 2, mag**2], dtype=np.float64)\n",
    "\n",
    "def create_test_inputs(batch_size, samples, cmplx=False, seed=None):\n",
    "    rng = np.random.default_rng(seed)\n",
    "\n",
    "    start_coeffs = get_random_biquads(cmplx, rng)\n",
    "    end_coeffs = get_random_biquads(cmplx, rng)\n",
    "    dtype = np.complex128 if cmplx else np.float64\n",
    "\n",
    "    A = np.stack(\n",
    "        [\n",
    "            np.linspace(start_coeffs[i], end_coeffs[i], samples, dtype=dtype)\n",
    "            for i in range(2)\n",
    "        ]\n",
    "    ).T.reshape(1, samples, 2)\n",
    "    \n",
    "    A = np.tile(A, (batch_size, 1, 1))\n",
    "    x = rng.normal(size=(batch_size, samples)).astype(dtype)\n",
    "    zi = rng.normal(size=(batch_size, 2)).astype(dtype)\n",
    "    return x, A, zi\n"
   ]
  },
  {
   "cell_type": "code",
   "execution_count": null,
   "metadata": {},
   "outputs": [],
   "source": [
    "# | export\n",
    "\n",
    "@pytest.mark.parametrize(\n",
    "    \"samples\",\n",
    "    [32],\n",
    ")\n",
    "@pytest.mark.parametrize(\n",
    "    \"cmplx\",\n",
    "    [False],\n",
    ")\n",
    "def test_low_order(\n",
    "    samples: int,\n",
    "    cmplx: bool,\n",
    "):\n",
    "    from jaxpole.filter import allpole\n",
    "    import jax\n",
    "    from jax.test_util import check_grads\n",
    "\n",
    "    print(f\"The jax default backend is {jax.default_backend()}\")\n",
    "    \n",
    "    batch_size = 4\n",
    "    x, A, zi = create_test_inputs(batch_size, samples, cmplx)\n",
    "    check_grads(allpole, (x, A, zi), order=2, modes=(\"rev\"))"
   ]
  }
 ],
 "metadata": {
  "kernelspec": {
   "display_name": "python3",
   "language": "python",
   "name": "python3"
  }
 },
 "nbformat": 4,
 "nbformat_minor": 2
}
