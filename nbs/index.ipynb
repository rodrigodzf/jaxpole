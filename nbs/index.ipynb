{
 "cells": [
  {
   "cell_type": "code",
   "execution_count": null,
   "metadata": {},
   "outputs": [],
   "source": [
    "#| hide\n",
    "\n",
    "from jaxpole.filter import allpole"
   ]
  },
  {
   "cell_type": "markdown",
   "metadata": {},
   "source": [
    "# jaxpole\n",
    "\n",
    "> A differentiable implementation of an all-pole filter in JAX"
   ]
  },
  {
   "cell_type": "markdown",
   "metadata": {},
   "source": [
    "This is an implementation of a differentiable time-varying all-pole filter in JAX based on [torchlpc](https://github.com/yoyololicon/torchlpc)."
   ]
  },
  {
   "cell_type": "markdown",
   "metadata": {},
   "source": [
    "## Install"
   ]
  },
  {
   "cell_type": "markdown",
   "metadata": {},
   "source": [
    "```sh\n",
    "pip install jaxpole\n",
    "```\n",
    "\n",
    "or locally from source\n",
    "\n",
    "```sh\n",
    "pip install -e '.[dev]'\n",
    "```"
   ]
  },
  {
   "cell_type": "markdown",
   "metadata": {},
   "source": [
    "## How to use"
   ]
  },
  {
   "cell_type": "code",
   "execution_count": null,
   "metadata": {},
   "outputs": [],
   "source": [
    "import jax.numpy as jnp\n",
    "import jax\n",
    "\n",
    "pole = 0.99 * jnp.exp(1j * jnp.pi / 4)\n",
    "coeffs = jnp.array([-2 * pole.real, pole.real**2 + pole.imag**2])\n",
    "\n",
    "x = jax.random.normal(jax.random.PRNGKey(0), (1, 1000)) # (B, T)\n",
    "A = jnp.tile(coeffs, (1, x.shape[-1], 1)) # (B, T, P)\n",
    "zi = jnp.zeros((1, 2)) # (B, P)\n",
    "\n",
    "# filter the signal\n",
    "y = allpole(x, A, zi)"
   ]
  }
 ],
 "metadata": {
  "kernelspec": {
   "display_name": "python3",
   "language": "python",
   "name": "python3"
  }
 },
 "nbformat": 4,
 "nbformat_minor": 4
}
